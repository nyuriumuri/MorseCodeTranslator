{
 "cells": [
  {
   "cell_type": "code",
   "execution_count": 44,
   "metadata": {},
   "outputs": [
    {
     "name": "stdout",
     "output_type": "stream",
     "text": [
      ".... . .-.. .-.. ---,..-. .-. .. . -. -..\n",
      "[1, 0, 1, 0, 1, 0, 1, 0, 0, 0, 0, 1, 0, 0, 0, 0, 1, 0, 1, 1, 1, 0, 1, 0, 1, 0, 0, 0, 0, 1, 0, 1, 1, 1, 0, 1, 0, 1, 0, 0, 0, 0, 1, 1, 1, 0, 1, 1, 1, 0, 1, 1, 1, 0, 0, 0, 0, 0, 0, 0, 0, 1, 0, 1, 0, 1, 1, 1, 0, 1, 0, 0, 0, 0, 1, 0, 1, 1, 1, 0, 1, 0, 0, 0, 0, 1, 0, 1, 0, 0, 0, 0, 1, 0, 0, 0, 0, 1, 1, 1, 0, 1, 0, 0, 0, 0, 1, 1, 1, 0, 1, 0, 1, 0]\n"
     ]
    }
   ],
   "source": [
    "# from scipy.io import wavfile as wav \n",
    "import matplotlib.pyplot as plt \n",
    "import librosa\n",
    "import numpy as np\n",
    "import re\n",
    "unit = 0.1\n",
    "data, rate = librosa.load('Hello Friend.wav', mono=True)\n",
    "interval = int(rate*unit)\n",
    "ranges = (np.arange(0,len(data), step = interval))\n",
    "fourier = [np.fft.fft(data[i:i+interval]) for i in ranges]\n",
    "max_f = [max(np.absolute(i)) for i in fourier]\n",
    "code = [1 if i>50 else 0 for i in max_f]\n",
    "string  = \"\".join([str(i) for i in code])\n",
    "dash = re.compile('1110')\n",
    "dot = re.compile('10')\n",
    "word = re.compile('0000000')\n",
    "letter = re.compile('000')\n",
    "string = dash.sub('-', string)\n",
    "string = dot.sub('.',string)\n",
    "string = word.sub('/', string)\n",
    "string = letter.sub(' ', string)\n",
    "print(string)\n",
    "print(code)"
   ]
  }
 ],
 "metadata": {
  "interpreter": {
   "hash": "240c2377b8287f1a28e1b29590563e6c039c2f721fcc14b859f4715c690f3be4"
  },
  "kernelspec": {
   "display_name": "Python 3.8.8 64-bit ('base': conda)",
   "language": "python",
   "name": "python3"
  },
  "language_info": {
   "codemirror_mode": {
    "name": "ipython",
    "version": 3
   },
   "file_extension": ".py",
   "mimetype": "text/x-python",
   "name": "python",
   "nbconvert_exporter": "python",
   "pygments_lexer": "ipython3",
   "version": "3.8.8"
  },
  "orig_nbformat": 4
 },
 "nbformat": 4,
 "nbformat_minor": 2
}
